{
 "cells": [
  {
   "cell_type": "markdown",
   "id": "8ef1f140",
   "metadata": {},
   "source": [
    "## Librerias"
   ]
  },
  {
   "cell_type": "code",
   "execution_count": 1,
   "id": "7b202ffe",
   "metadata": {},
   "outputs": [],
   "source": [
    "import requests\n",
    "import json\n",
    "import pandas as pd\n",
    "import warnings\n",
    "warnings.filterwarnings(\"ignore\")\n"
   ]
  },
  {
   "cell_type": "markdown",
   "id": "c8b20786",
   "metadata": {},
   "source": [
    "## Tabla de races"
   ]
  },
  {
   "cell_type": "code",
   "execution_count": 2,
   "id": "a6e7a68e",
   "metadata": {},
   "outputs": [],
   "source": [
    "races={'season':[],\n",
    "       'round': [],\n",
    "       'raceName':[],\n",
    "       'circuitId': [],\n",
    "       'lat':[],\n",
    "       'long':[],\n",
    "       'country':[],\n",
    "       'date':[],\n",
    "       'url':[]}"
   ]
  },
  {
   "cell_type": "code",
   "execution_count": 3,
   "id": "0488c0fa",
   "metadata": {},
   "outputs": [],
   "source": [
    "for year in list(range(2010,2022)):\n",
    "    url='http://ergast.com/api/f1/{}.json'\n",
    "    response = requests.get(url.format(year))\n",
    "    content = json.loads(response.content)\n",
    "    \n",
    "    \n",
    "    for item in content['MRData']['RaceTable']['Races']:\n",
    "\n",
    "            races['season'].append(int(item['season']))\n",
    "            \n",
    "            races['round'].append(int(item['round']))\n",
    "            \n",
    "            races['raceName'].append(item['raceName'])\n",
    "            \n",
    "            races['circuitId'].append(item['Circuit']['circuitId'])\n",
    "            \n",
    "            races['lat'].append(item['Circuit']['Location']['lat'])\n",
    "            \n",
    "            races['long'].append(item['Circuit']['Location']['long'])\n",
    "            \n",
    "            races['country'].append(item['Circuit']['Location']['country'])\n",
    "            \n",
    "            races['date'].append(item['date'])\n",
    "            \n",
    "            races['url'].append(item['url'])"
   ]
  },
  {
   "cell_type": "code",
   "execution_count": 4,
   "id": "e6136454",
   "metadata": {},
   "outputs": [
    {
     "data": {
      "text/html": [
       "<div>\n",
       "<style scoped>\n",
       "    .dataframe tbody tr th:only-of-type {\n",
       "        vertical-align: middle;\n",
       "    }\n",
       "\n",
       "    .dataframe tbody tr th {\n",
       "        vertical-align: top;\n",
       "    }\n",
       "\n",
       "    .dataframe thead th {\n",
       "        text-align: right;\n",
       "    }\n",
       "</style>\n",
       "<table border=\"1\" class=\"dataframe\">\n",
       "  <thead>\n",
       "    <tr style=\"text-align: right;\">\n",
       "      <th></th>\n",
       "      <th>season</th>\n",
       "      <th>round</th>\n",
       "      <th>raceName</th>\n",
       "      <th>circuitId</th>\n",
       "      <th>lat</th>\n",
       "      <th>long</th>\n",
       "      <th>country</th>\n",
       "      <th>date</th>\n",
       "      <th>url</th>\n",
       "    </tr>\n",
       "  </thead>\n",
       "  <tbody>\n",
       "    <tr>\n",
       "      <th>0</th>\n",
       "      <td>2010</td>\n",
       "      <td>1</td>\n",
       "      <td>Bahrain Grand Prix</td>\n",
       "      <td>bahrain</td>\n",
       "      <td>26.0325</td>\n",
       "      <td>50.5106</td>\n",
       "      <td>Bahrain</td>\n",
       "      <td>2010-03-14</td>\n",
       "      <td>http://en.wikipedia.org/wiki/2010_Bahrain_Gran...</td>\n",
       "    </tr>\n",
       "    <tr>\n",
       "      <th>1</th>\n",
       "      <td>2010</td>\n",
       "      <td>2</td>\n",
       "      <td>Australian Grand Prix</td>\n",
       "      <td>albert_park</td>\n",
       "      <td>-37.8497</td>\n",
       "      <td>144.968</td>\n",
       "      <td>Australia</td>\n",
       "      <td>2010-03-28</td>\n",
       "      <td>http://en.wikipedia.org/wiki/2010_Australian_G...</td>\n",
       "    </tr>\n",
       "    <tr>\n",
       "      <th>2</th>\n",
       "      <td>2010</td>\n",
       "      <td>3</td>\n",
       "      <td>Malaysian Grand Prix</td>\n",
       "      <td>sepang</td>\n",
       "      <td>2.76083</td>\n",
       "      <td>101.738</td>\n",
       "      <td>Malaysia</td>\n",
       "      <td>2010-04-04</td>\n",
       "      <td>http://en.wikipedia.org/wiki/2010_Malaysian_Gr...</td>\n",
       "    </tr>\n",
       "    <tr>\n",
       "      <th>3</th>\n",
       "      <td>2010</td>\n",
       "      <td>4</td>\n",
       "      <td>Chinese Grand Prix</td>\n",
       "      <td>shanghai</td>\n",
       "      <td>31.3389</td>\n",
       "      <td>121.22</td>\n",
       "      <td>China</td>\n",
       "      <td>2010-04-18</td>\n",
       "      <td>http://en.wikipedia.org/wiki/2010_Chinese_Gran...</td>\n",
       "    </tr>\n",
       "    <tr>\n",
       "      <th>4</th>\n",
       "      <td>2010</td>\n",
       "      <td>5</td>\n",
       "      <td>Spanish Grand Prix</td>\n",
       "      <td>catalunya</td>\n",
       "      <td>41.57</td>\n",
       "      <td>2.26111</td>\n",
       "      <td>Spain</td>\n",
       "      <td>2010-05-09</td>\n",
       "      <td>http://en.wikipedia.org/wiki/2010_Spanish_Gran...</td>\n",
       "    </tr>\n",
       "    <tr>\n",
       "      <th>...</th>\n",
       "      <td>...</td>\n",
       "      <td>...</td>\n",
       "      <td>...</td>\n",
       "      <td>...</td>\n",
       "      <td>...</td>\n",
       "      <td>...</td>\n",
       "      <td>...</td>\n",
       "      <td>...</td>\n",
       "      <td>...</td>\n",
       "    </tr>\n",
       "    <tr>\n",
       "      <th>232</th>\n",
       "      <td>2021</td>\n",
       "      <td>18</td>\n",
       "      <td>Mexico City Grand Prix</td>\n",
       "      <td>rodriguez</td>\n",
       "      <td>19.4042</td>\n",
       "      <td>-99.0907</td>\n",
       "      <td>Mexico</td>\n",
       "      <td>2021-11-07</td>\n",
       "      <td>http://en.wikipedia.org/wiki/2021_Mexican_Gran...</td>\n",
       "    </tr>\n",
       "    <tr>\n",
       "      <th>233</th>\n",
       "      <td>2021</td>\n",
       "      <td>19</td>\n",
       "      <td>São Paulo Grand Prix</td>\n",
       "      <td>interlagos</td>\n",
       "      <td>-23.7036</td>\n",
       "      <td>-46.6997</td>\n",
       "      <td>Brazil</td>\n",
       "      <td>2021-11-14</td>\n",
       "      <td>http://en.wikipedia.org/wiki/2021_S%C3%A3o_Pau...</td>\n",
       "    </tr>\n",
       "    <tr>\n",
       "      <th>234</th>\n",
       "      <td>2021</td>\n",
       "      <td>20</td>\n",
       "      <td>Qatar Grand Prix</td>\n",
       "      <td>losail</td>\n",
       "      <td>25.49</td>\n",
       "      <td>51.4542</td>\n",
       "      <td>Qatar</td>\n",
       "      <td>2021-11-21</td>\n",
       "      <td>http://en.wikipedia.org/wiki/2021_Qatar_Grand_...</td>\n",
       "    </tr>\n",
       "    <tr>\n",
       "      <th>235</th>\n",
       "      <td>2021</td>\n",
       "      <td>21</td>\n",
       "      <td>Saudi Arabian Grand Prix</td>\n",
       "      <td>jeddah</td>\n",
       "      <td>21.6319</td>\n",
       "      <td>39.1044</td>\n",
       "      <td>Saudi Arabia</td>\n",
       "      <td>2021-12-05</td>\n",
       "      <td>http://en.wikipedia.org/wiki/2021_Saudi_Arabia...</td>\n",
       "    </tr>\n",
       "    <tr>\n",
       "      <th>236</th>\n",
       "      <td>2021</td>\n",
       "      <td>22</td>\n",
       "      <td>Abu Dhabi Grand Prix</td>\n",
       "      <td>yas_marina</td>\n",
       "      <td>24.4672</td>\n",
       "      <td>54.6031</td>\n",
       "      <td>UAE</td>\n",
       "      <td>2021-12-12</td>\n",
       "      <td>http://en.wikipedia.org/wiki/2021_Abu_Dhabi_Gr...</td>\n",
       "    </tr>\n",
       "  </tbody>\n",
       "</table>\n",
       "<p>237 rows × 9 columns</p>\n",
       "</div>"
      ],
      "text/plain": [
       "     season  round                  raceName    circuitId       lat      long  \\\n",
       "0      2010      1        Bahrain Grand Prix      bahrain   26.0325   50.5106   \n",
       "1      2010      2     Australian Grand Prix  albert_park  -37.8497   144.968   \n",
       "2      2010      3      Malaysian Grand Prix       sepang   2.76083   101.738   \n",
       "3      2010      4        Chinese Grand Prix     shanghai   31.3389    121.22   \n",
       "4      2010      5        Spanish Grand Prix    catalunya     41.57   2.26111   \n",
       "..      ...    ...                       ...          ...       ...       ...   \n",
       "232    2021     18    Mexico City Grand Prix    rodriguez   19.4042  -99.0907   \n",
       "233    2021     19      São Paulo Grand Prix   interlagos  -23.7036  -46.6997   \n",
       "234    2021     20          Qatar Grand Prix       losail     25.49   51.4542   \n",
       "235    2021     21  Saudi Arabian Grand Prix       jeddah   21.6319   39.1044   \n",
       "236    2021     22      Abu Dhabi Grand Prix   yas_marina   24.4672   54.6031   \n",
       "\n",
       "          country        date  \\\n",
       "0         Bahrain  2010-03-14   \n",
       "1       Australia  2010-03-28   \n",
       "2        Malaysia  2010-04-04   \n",
       "3           China  2010-04-18   \n",
       "4           Spain  2010-05-09   \n",
       "..            ...         ...   \n",
       "232        Mexico  2021-11-07   \n",
       "233        Brazil  2021-11-14   \n",
       "234         Qatar  2021-11-21   \n",
       "235  Saudi Arabia  2021-12-05   \n",
       "236           UAE  2021-12-12   \n",
       "\n",
       "                                                   url  \n",
       "0    http://en.wikipedia.org/wiki/2010_Bahrain_Gran...  \n",
       "1    http://en.wikipedia.org/wiki/2010_Australian_G...  \n",
       "2    http://en.wikipedia.org/wiki/2010_Malaysian_Gr...  \n",
       "3    http://en.wikipedia.org/wiki/2010_Chinese_Gran...  \n",
       "4    http://en.wikipedia.org/wiki/2010_Spanish_Gran...  \n",
       "..                                                 ...  \n",
       "232  http://en.wikipedia.org/wiki/2021_Mexican_Gran...  \n",
       "233  http://en.wikipedia.org/wiki/2021_S%C3%A3o_Pau...  \n",
       "234  http://en.wikipedia.org/wiki/2021_Qatar_Grand_...  \n",
       "235  http://en.wikipedia.org/wiki/2021_Saudi_Arabia...  \n",
       "236  http://en.wikipedia.org/wiki/2021_Abu_Dhabi_Gr...  \n",
       "\n",
       "[237 rows x 9 columns]"
      ]
     },
     "execution_count": 4,
     "metadata": {},
     "output_type": "execute_result"
    }
   ],
   "source": [
    "pd.DataFrame(races)"
   ]
  },
  {
   "cell_type": "code",
   "execution_count": null,
   "id": "e2f96c7b",
   "metadata": {},
   "outputs": [],
   "source": []
  },
  {
   "cell_type": "markdown",
   "id": "fcdc01f0",
   "metadata": {},
   "source": [
    "## Tabla de resultados"
   ]
  },
  {
   "cell_type": "code",
   "execution_count": 5,
   "id": "f64f8a8a",
   "metadata": {},
   "outputs": [],
   "source": [
    "df_results_2022=pd.DataFrame()\n",
    "for race in list(range(1,23)):\n",
    "    url='http://ergast.com/api/f1/2022/{}/results.json'\n",
    "    response = requests.get(url.format(race))\n",
    "    content = json.loads(response.content)\n",
    "    df_results_2022=df_results_2022.append(pd.DataFrame(content['MRData']['RaceTable']['Races'][0]['Results']))"
   ]
  },
  {
   "cell_type": "code",
   "execution_count": null,
   "id": "c479fc65",
   "metadata": {},
   "outputs": [],
   "source": [
    "url='http://ergast.com/api/f1/2022/22/results.json'\n",
    "response = requests.get(url)"
   ]
  },
  {
   "cell_type": "code",
   "execution_count": null,
   "id": "924975db",
   "metadata": {},
   "outputs": [],
   "source": [
    "content = json.loads(response.content)"
   ]
  },
  {
   "cell_type": "code",
   "execution_count": null,
   "id": "e5c86fd9",
   "metadata": {},
   "outputs": [],
   "source": [
    "list(range(1,23))"
   ]
  },
  {
   "cell_type": "code",
   "execution_count": null,
   "id": "3ef1a8db",
   "metadata": {},
   "outputs": [],
   "source": []
  },
  {
   "cell_type": "code",
   "execution_count": null,
   "id": "4d52eda4",
   "metadata": {},
   "outputs": [],
   "source": [
    "for year in list(range(2010,2022)):\n",
    "    url='http://ergast.com/api/f1/{}.json'\n",
    "    response = requests.get(url.format(year))\n",
    "    content = json.loads(response.content)"
   ]
  },
  {
   "cell_type": "code",
   "execution_count": null,
   "id": "2c89bfbd",
   "metadata": {},
   "outputs": [],
   "source": [
    "content['MRData']['RaceTable']['Races'][0]['raceName']"
   ]
  },
  {
   "cell_type": "code",
   "execution_count": null,
   "id": "f376785a",
   "metadata": {},
   "outputs": [],
   "source": []
  },
  {
   "cell_type": "code",
   "execution_count": null,
   "id": "1a0b9d1c",
   "metadata": {},
   "outputs": [],
   "source": [
    "for key in races.keys():\n",
    "    print(len(races[key]))"
   ]
  },
  {
   "cell_type": "code",
   "execution_count": null,
   "id": "39c53814",
   "metadata": {},
   "outputs": [],
   "source": []
  },
  {
   "cell_type": "code",
   "execution_count": null,
   "id": "cecedc8c",
   "metadata": {},
   "outputs": [],
   "source": [
    "races"
   ]
  },
  {
   "cell_type": "code",
   "execution_count": null,
   "id": "6836bdca",
   "metadata": {},
   "outputs": [],
   "source": [
    "races['season']"
   ]
  },
  {
   "cell_type": "code",
   "execution_count": null,
   "id": "e6ed5aac",
   "metadata": {},
   "outputs": [],
   "source": []
  },
  {
   "cell_type": "code",
   "execution_count": null,
   "id": "88efa8a4",
   "metadata": {},
   "outputs": [],
   "source": []
  },
  {
   "cell_type": "code",
   "execution_count": null,
   "id": "0d8c712a",
   "metadata": {},
   "outputs": [],
   "source": [
    "df_results_2022['Driver'] = df_results_2022['Driver'].apply(lambda x: x['driverId'])"
   ]
  },
  {
   "cell_type": "code",
   "execution_count": null,
   "id": "6c2751d0",
   "metadata": {},
   "outputs": [],
   "source": [
    "df_results_2022.groupby(['Driver']).agg({'points':'sum'})"
   ]
  },
  {
   "cell_type": "code",
   "execution_count": null,
   "id": "a31202d9",
   "metadata": {},
   "outputs": [],
   "source": [
    "df_results_2022['points']=df_results_2022.points.values.astype(int)"
   ]
  },
  {
   "cell_type": "code",
   "execution_count": null,
   "id": "73850458",
   "metadata": {},
   "outputs": [],
   "source": [
    "df_results_2022.groupby(['Driver']).agg({'points':'sum'}).sort_values(by='points',ascending=False)"
   ]
  },
  {
   "cell_type": "code",
   "execution_count": null,
   "id": "d8e763ae",
   "metadata": {},
   "outputs": [],
   "source": []
  },
  {
   "cell_type": "code",
   "execution_count": null,
   "id": "01addd75",
   "metadata": {},
   "outputs": [],
   "source": []
  },
  {
   "cell_type": "code",
   "execution_count": null,
   "id": "81e63a33",
   "metadata": {},
   "outputs": [],
   "source": [
    "df_results_2022['points']"
   ]
  },
  {
   "cell_type": "code",
   "execution_count": null,
   "id": "57149020",
   "metadata": {},
   "outputs": [],
   "source": [
    "df_results_2022.groupby(['position']).agg({'points':'sum'}).sort_values(by='points',ascending=False)"
   ]
  },
  {
   "cell_type": "code",
   "execution_count": null,
   "id": "d2f441e3",
   "metadata": {},
   "outputs": [],
   "source": [
    "url='http://ergast.com/api/f1/2012.json'\n",
    "response = requests.get(url.format(race))\n",
    "content = json.loads(response.content)"
   ]
  },
  {
   "cell_type": "code",
   "execution_count": null,
   "id": "0acdca0f",
   "metadata": {},
   "outputs": [],
   "source": [
    "pd.DataFrame(content['MRData']['RaceTable']['Races'])"
   ]
  },
  {
   "cell_type": "code",
   "execution_count": null,
   "id": "311b5c34",
   "metadata": {},
   "outputs": [],
   "source": [
    " "
   ]
  },
  {
   "cell_type": "code",
   "execution_count": null,
   "id": "b8922ebb",
   "metadata": {},
   "outputs": [],
   "source": []
  }
 ],
 "metadata": {
  "kernelspec": {
   "display_name": "Python 3 (ipykernel)",
   "language": "python",
   "name": "python3"
  },
  "language_info": {
   "codemirror_mode": {
    "name": "ipython",
    "version": 3
   },
   "file_extension": ".py",
   "mimetype": "text/x-python",
   "name": "python",
   "nbconvert_exporter": "python",
   "pygments_lexer": "ipython3",
   "version": "3.9.13"
  }
 },
 "nbformat": 4,
 "nbformat_minor": 5
}
