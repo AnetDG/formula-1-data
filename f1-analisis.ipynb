{
 "cells": [
  {
   "cell_type": "markdown",
   "id": "ad60a1e2",
   "metadata": {},
   "source": [
    "## Librerias"
   ]
  },
  {
   "cell_type": "code",
   "execution_count": 9,
   "id": "7b202ffe",
   "metadata": {},
   "outputs": [],
   "source": [
    "import requests\n",
    "import json\n",
    "import pandas as pd\n",
    "import warnings\n",
    "warnings.filterwarnings(\"ignore\")\n"
   ]
  },
  {
   "cell_type": "markdown",
   "id": "c3553970",
   "metadata": {},
   "source": [
    "## Tabla de races"
   ]
  },
  {
   "cell_type": "code",
   "execution_count": 10,
   "id": "26501869",
   "metadata": {},
   "outputs": [],
   "source": [
    "races={'season':[],\n",
    "       'round': [],\n",
    "       'raceName':[],\n",
    "       'circuitId': [],\n",
    "       'lat':[],\n",
    "       'long':[],\n",
    "       'country':[],\n",
    "       'date':[],\n",
    "       'url':[]}"
   ]
  },
  {
   "cell_type": "code",
   "execution_count": 11,
   "id": "0ddca9c6",
   "metadata": {},
   "outputs": [],
   "source": [
    "for year in list(range(2010,2023)):\n",
    "    url='http://ergast.com/api/f1/{}.json'\n",
    "    response = requests.get(url.format(year))\n",
    "    content = json.loads(response.content)\n",
    "    \n",
    "    \n",
    "    for item in content['MRData']['RaceTable']['Races']:\n",
    "\n",
    "            races['season'].append(int(item['season']))\n",
    "            \n",
    "            races['round'].append(int(item['round']))\n",
    "            \n",
    "            races['raceName'].append(item['raceName'])\n",
    "            \n",
    "            races['circuitId'].append(item['Circuit']['circuitId'])\n",
    "            \n",
    "            races['lat'].append(item['Circuit']['Location']['lat'])\n",
    "            \n",
    "            races['long'].append(item['Circuit']['Location']['long'])\n",
    "            \n",
    "            races['country'].append(item['Circuit']['Location']['country'])\n",
    "            \n",
    "            races['date'].append(item['date'])\n",
    "            \n",
    "            races['url'].append(item['url'])"
   ]
  },
  {
   "cell_type": "code",
   "execution_count": 12,
   "id": "71d89d72",
   "metadata": {},
   "outputs": [
    {
     "data": {
      "text/html": [
       "<div>\n",
       "<style scoped>\n",
       "    .dataframe tbody tr th:only-of-type {\n",
       "        vertical-align: middle;\n",
       "    }\n",
       "\n",
       "    .dataframe tbody tr th {\n",
       "        vertical-align: top;\n",
       "    }\n",
       "\n",
       "    .dataframe thead th {\n",
       "        text-align: right;\n",
       "    }\n",
       "</style>\n",
       "<table border=\"1\" class=\"dataframe\">\n",
       "  <thead>\n",
       "    <tr style=\"text-align: right;\">\n",
       "      <th></th>\n",
       "      <th>season</th>\n",
       "      <th>round</th>\n",
       "      <th>raceName</th>\n",
       "      <th>circuitId</th>\n",
       "      <th>lat</th>\n",
       "      <th>long</th>\n",
       "      <th>country</th>\n",
       "      <th>date</th>\n",
       "      <th>url</th>\n",
       "    </tr>\n",
       "  </thead>\n",
       "  <tbody>\n",
       "    <tr>\n",
       "      <th>0</th>\n",
       "      <td>2010</td>\n",
       "      <td>1</td>\n",
       "      <td>Bahrain Grand Prix</td>\n",
       "      <td>bahrain</td>\n",
       "      <td>26.0325</td>\n",
       "      <td>50.5106</td>\n",
       "      <td>Bahrain</td>\n",
       "      <td>2010-03-14</td>\n",
       "      <td>http://en.wikipedia.org/wiki/2010_Bahrain_Gran...</td>\n",
       "    </tr>\n",
       "    <tr>\n",
       "      <th>1</th>\n",
       "      <td>2010</td>\n",
       "      <td>2</td>\n",
       "      <td>Australian Grand Prix</td>\n",
       "      <td>albert_park</td>\n",
       "      <td>-37.8497</td>\n",
       "      <td>144.968</td>\n",
       "      <td>Australia</td>\n",
       "      <td>2010-03-28</td>\n",
       "      <td>http://en.wikipedia.org/wiki/2010_Australian_G...</td>\n",
       "    </tr>\n",
       "    <tr>\n",
       "      <th>2</th>\n",
       "      <td>2010</td>\n",
       "      <td>3</td>\n",
       "      <td>Malaysian Grand Prix</td>\n",
       "      <td>sepang</td>\n",
       "      <td>2.76083</td>\n",
       "      <td>101.738</td>\n",
       "      <td>Malaysia</td>\n",
       "      <td>2010-04-04</td>\n",
       "      <td>http://en.wikipedia.org/wiki/2010_Malaysian_Gr...</td>\n",
       "    </tr>\n",
       "    <tr>\n",
       "      <th>3</th>\n",
       "      <td>2010</td>\n",
       "      <td>4</td>\n",
       "      <td>Chinese Grand Prix</td>\n",
       "      <td>shanghai</td>\n",
       "      <td>31.3389</td>\n",
       "      <td>121.22</td>\n",
       "      <td>China</td>\n",
       "      <td>2010-04-18</td>\n",
       "      <td>http://en.wikipedia.org/wiki/2010_Chinese_Gran...</td>\n",
       "    </tr>\n",
       "    <tr>\n",
       "      <th>4</th>\n",
       "      <td>2010</td>\n",
       "      <td>5</td>\n",
       "      <td>Spanish Grand Prix</td>\n",
       "      <td>catalunya</td>\n",
       "      <td>41.57</td>\n",
       "      <td>2.26111</td>\n",
       "      <td>Spain</td>\n",
       "      <td>2010-05-09</td>\n",
       "      <td>http://en.wikipedia.org/wiki/2010_Spanish_Gran...</td>\n",
       "    </tr>\n",
       "    <tr>\n",
       "      <th>...</th>\n",
       "      <td>...</td>\n",
       "      <td>...</td>\n",
       "      <td>...</td>\n",
       "      <td>...</td>\n",
       "      <td>...</td>\n",
       "      <td>...</td>\n",
       "      <td>...</td>\n",
       "      <td>...</td>\n",
       "      <td>...</td>\n",
       "    </tr>\n",
       "    <tr>\n",
       "      <th>254</th>\n",
       "      <td>2022</td>\n",
       "      <td>18</td>\n",
       "      <td>Japanese Grand Prix</td>\n",
       "      <td>suzuka</td>\n",
       "      <td>34.8431</td>\n",
       "      <td>136.541</td>\n",
       "      <td>Japan</td>\n",
       "      <td>2022-10-09</td>\n",
       "      <td>http://en.wikipedia.org/wiki/2022_Japanese_Gra...</td>\n",
       "    </tr>\n",
       "    <tr>\n",
       "      <th>255</th>\n",
       "      <td>2022</td>\n",
       "      <td>19</td>\n",
       "      <td>United States Grand Prix</td>\n",
       "      <td>americas</td>\n",
       "      <td>30.1328</td>\n",
       "      <td>-97.6411</td>\n",
       "      <td>USA</td>\n",
       "      <td>2022-10-23</td>\n",
       "      <td>http://en.wikipedia.org/wiki/2022_United_State...</td>\n",
       "    </tr>\n",
       "    <tr>\n",
       "      <th>256</th>\n",
       "      <td>2022</td>\n",
       "      <td>20</td>\n",
       "      <td>Mexico City Grand Prix</td>\n",
       "      <td>rodriguez</td>\n",
       "      <td>19.4042</td>\n",
       "      <td>-99.0907</td>\n",
       "      <td>Mexico</td>\n",
       "      <td>2022-10-30</td>\n",
       "      <td>http://en.wikipedia.org/wiki/2022_Mexican_Gran...</td>\n",
       "    </tr>\n",
       "    <tr>\n",
       "      <th>257</th>\n",
       "      <td>2022</td>\n",
       "      <td>21</td>\n",
       "      <td>Brazilian Grand Prix</td>\n",
       "      <td>interlagos</td>\n",
       "      <td>-23.7036</td>\n",
       "      <td>-46.6997</td>\n",
       "      <td>Brazil</td>\n",
       "      <td>2022-11-13</td>\n",
       "      <td>http://en.wikipedia.org/wiki/2022_Brazilian_Gr...</td>\n",
       "    </tr>\n",
       "    <tr>\n",
       "      <th>258</th>\n",
       "      <td>2022</td>\n",
       "      <td>22</td>\n",
       "      <td>Abu Dhabi Grand Prix</td>\n",
       "      <td>yas_marina</td>\n",
       "      <td>24.4672</td>\n",
       "      <td>54.6031</td>\n",
       "      <td>UAE</td>\n",
       "      <td>2022-11-20</td>\n",
       "      <td>http://en.wikipedia.org/wiki/2022_Abu_Dhabi_Gr...</td>\n",
       "    </tr>\n",
       "  </tbody>\n",
       "</table>\n",
       "<p>259 rows × 9 columns</p>\n",
       "</div>"
      ],
      "text/plain": [
       "     season  round                  raceName    circuitId       lat      long  \\\n",
       "0      2010      1        Bahrain Grand Prix      bahrain   26.0325   50.5106   \n",
       "1      2010      2     Australian Grand Prix  albert_park  -37.8497   144.968   \n",
       "2      2010      3      Malaysian Grand Prix       sepang   2.76083   101.738   \n",
       "3      2010      4        Chinese Grand Prix     shanghai   31.3389    121.22   \n",
       "4      2010      5        Spanish Grand Prix    catalunya     41.57   2.26111   \n",
       "..      ...    ...                       ...          ...       ...       ...   \n",
       "254    2022     18       Japanese Grand Prix       suzuka   34.8431   136.541   \n",
       "255    2022     19  United States Grand Prix     americas   30.1328  -97.6411   \n",
       "256    2022     20    Mexico City Grand Prix    rodriguez   19.4042  -99.0907   \n",
       "257    2022     21      Brazilian Grand Prix   interlagos  -23.7036  -46.6997   \n",
       "258    2022     22      Abu Dhabi Grand Prix   yas_marina   24.4672   54.6031   \n",
       "\n",
       "       country        date                                                url  \n",
       "0      Bahrain  2010-03-14  http://en.wikipedia.org/wiki/2010_Bahrain_Gran...  \n",
       "1    Australia  2010-03-28  http://en.wikipedia.org/wiki/2010_Australian_G...  \n",
       "2     Malaysia  2010-04-04  http://en.wikipedia.org/wiki/2010_Malaysian_Gr...  \n",
       "3        China  2010-04-18  http://en.wikipedia.org/wiki/2010_Chinese_Gran...  \n",
       "4        Spain  2010-05-09  http://en.wikipedia.org/wiki/2010_Spanish_Gran...  \n",
       "..         ...         ...                                                ...  \n",
       "254      Japan  2022-10-09  http://en.wikipedia.org/wiki/2022_Japanese_Gra...  \n",
       "255        USA  2022-10-23  http://en.wikipedia.org/wiki/2022_United_State...  \n",
       "256     Mexico  2022-10-30  http://en.wikipedia.org/wiki/2022_Mexican_Gran...  \n",
       "257     Brazil  2022-11-13  http://en.wikipedia.org/wiki/2022_Brazilian_Gr...  \n",
       "258        UAE  2022-11-20  http://en.wikipedia.org/wiki/2022_Abu_Dhabi_Gr...  \n",
       "\n",
       "[259 rows x 9 columns]"
      ]
     },
     "execution_count": 12,
     "metadata": {},
     "output_type": "execute_result"
    }
   ],
   "source": [
    "pd.DataFrame(races)"
   ]
  },
  {
   "cell_type": "code",
   "execution_count": 13,
   "id": "44eaeca2",
   "metadata": {},
   "outputs": [],
   "source": [
    "pd.DataFrame(races).to_csv('races.csv',index=False)"
   ]
  },
  {
   "cell_type": "markdown",
   "id": "cdd91d86",
   "metadata": {},
   "source": [
    "## Tabla de resultados"
   ]
  },
  {
   "cell_type": "code",
   "execution_count": 22,
   "id": "0d7ce985",
   "metadata": {},
   "outputs": [],
   "source": [
    "df_results_2022=pd.DataFrame()\n",
    "for race in list(range(1,23)):\n",
    "    url='http://ergast.com/api/f1/2022/{}/results.json'\n",
    "    response = requests.get(url.format(race))\n",
    "    content = json.loads(response.content)\n",
    "    df_results_2022=df_results_2022.append(pd.DataFrame(content['MRData']['RaceTable']['Races'][0]['Results']))"
   ]
  },
  {
   "cell_type": "code",
   "execution_count": null,
   "id": "c479fc65",
   "metadata": {},
   "outputs": [],
   "source": [
    "url='http://ergast.com/api/f1/2022/22/results.json'\n",
    "response = requests.get(url)"
   ]
  },
  {
   "cell_type": "code",
   "execution_count": null,
   "id": "924975db",
   "metadata": {},
   "outputs": [],
   "source": [
    "content = json.loads(response.content)"
   ]
  },
  {
   "cell_type": "code",
   "execution_count": null,
   "id": "e5c86fd9",
   "metadata": {},
   "outputs": [],
   "source": [
    "list(range(1,23))"
   ]
  },
  {
   "cell_type": "markdown",
   "id": "3525f681",
   "metadata": {},
   "source": [
    "## Ejercicio 03/02/2023"
   ]
  },
  {
   "cell_type": "code",
   "execution_count": 34,
   "id": "a8f9d1e6",
   "metadata": {},
   "outputs": [],
   "source": [
    "url='http://ergast.com/api/f1/seasons.json'\n",
    "response = requests.get(url.format(2022))\n",
    "content = json.loads(response.content)"
   ]
  },
  {
   "cell_type": "code",
   "execution_count": 35,
   "id": "3f4a7328",
   "metadata": {},
   "outputs": [],
   "source": [
    "seasons ={'season':[],\n",
    "          'url': []}"
   ]
  },
  {
   "cell_type": "code",
   "execution_count": 37,
   "id": "fb61a4c2",
   "metadata": {},
   "outputs": [],
   "source": [
    "for item in content['MRData']['SeasonTable']['Seasons']:\n",
    "    seasons['season'].append(int(item['season']))\n",
    "    seasons['url'].append(item['url'])"
   ]
  },
  {
   "cell_type": "code",
   "execution_count": 38,
   "id": "3ef1a8db",
   "metadata": {},
   "outputs": [
    {
     "data": {
      "text/html": [
       "<div>\n",
       "<style scoped>\n",
       "    .dataframe tbody tr th:only-of-type {\n",
       "        vertical-align: middle;\n",
       "    }\n",
       "\n",
       "    .dataframe tbody tr th {\n",
       "        vertical-align: top;\n",
       "    }\n",
       "\n",
       "    .dataframe thead th {\n",
       "        text-align: right;\n",
       "    }\n",
       "</style>\n",
       "<table border=\"1\" class=\"dataframe\">\n",
       "  <thead>\n",
       "    <tr style=\"text-align: right;\">\n",
       "      <th></th>\n",
       "      <th>season</th>\n",
       "      <th>url</th>\n",
       "    </tr>\n",
       "  </thead>\n",
       "  <tbody>\n",
       "    <tr>\n",
       "      <th>0</th>\n",
       "      <td>1950</td>\n",
       "      <td>http://en.wikipedia.org/wiki/1950_Formula_One_...</td>\n",
       "    </tr>\n",
       "    <tr>\n",
       "      <th>1</th>\n",
       "      <td>1951</td>\n",
       "      <td>http://en.wikipedia.org/wiki/1951_Formula_One_...</td>\n",
       "    </tr>\n",
       "    <tr>\n",
       "      <th>2</th>\n",
       "      <td>1952</td>\n",
       "      <td>http://en.wikipedia.org/wiki/1952_Formula_One_...</td>\n",
       "    </tr>\n",
       "    <tr>\n",
       "      <th>3</th>\n",
       "      <td>1953</td>\n",
       "      <td>http://en.wikipedia.org/wiki/1953_Formula_One_...</td>\n",
       "    </tr>\n",
       "    <tr>\n",
       "      <th>4</th>\n",
       "      <td>1954</td>\n",
       "      <td>http://en.wikipedia.org/wiki/1954_Formula_One_...</td>\n",
       "    </tr>\n",
       "    <tr>\n",
       "      <th>5</th>\n",
       "      <td>1955</td>\n",
       "      <td>http://en.wikipedia.org/wiki/1955_Formula_One_...</td>\n",
       "    </tr>\n",
       "    <tr>\n",
       "      <th>6</th>\n",
       "      <td>1956</td>\n",
       "      <td>http://en.wikipedia.org/wiki/1956_Formula_One_...</td>\n",
       "    </tr>\n",
       "    <tr>\n",
       "      <th>7</th>\n",
       "      <td>1957</td>\n",
       "      <td>http://en.wikipedia.org/wiki/1957_Formula_One_...</td>\n",
       "    </tr>\n",
       "    <tr>\n",
       "      <th>8</th>\n",
       "      <td>1958</td>\n",
       "      <td>http://en.wikipedia.org/wiki/1958_Formula_One_...</td>\n",
       "    </tr>\n",
       "    <tr>\n",
       "      <th>9</th>\n",
       "      <td>1959</td>\n",
       "      <td>http://en.wikipedia.org/wiki/1959_Formula_One_...</td>\n",
       "    </tr>\n",
       "    <tr>\n",
       "      <th>10</th>\n",
       "      <td>1960</td>\n",
       "      <td>http://en.wikipedia.org/wiki/1960_Formula_One_...</td>\n",
       "    </tr>\n",
       "    <tr>\n",
       "      <th>11</th>\n",
       "      <td>1961</td>\n",
       "      <td>http://en.wikipedia.org/wiki/1961_Formula_One_...</td>\n",
       "    </tr>\n",
       "    <tr>\n",
       "      <th>12</th>\n",
       "      <td>1962</td>\n",
       "      <td>http://en.wikipedia.org/wiki/1962_Formula_One_...</td>\n",
       "    </tr>\n",
       "    <tr>\n",
       "      <th>13</th>\n",
       "      <td>1963</td>\n",
       "      <td>http://en.wikipedia.org/wiki/1963_Formula_One_...</td>\n",
       "    </tr>\n",
       "    <tr>\n",
       "      <th>14</th>\n",
       "      <td>1964</td>\n",
       "      <td>http://en.wikipedia.org/wiki/1964_Formula_One_...</td>\n",
       "    </tr>\n",
       "    <tr>\n",
       "      <th>15</th>\n",
       "      <td>1965</td>\n",
       "      <td>http://en.wikipedia.org/wiki/1965_Formula_One_...</td>\n",
       "    </tr>\n",
       "    <tr>\n",
       "      <th>16</th>\n",
       "      <td>1966</td>\n",
       "      <td>http://en.wikipedia.org/wiki/1966_Formula_One_...</td>\n",
       "    </tr>\n",
       "    <tr>\n",
       "      <th>17</th>\n",
       "      <td>1967</td>\n",
       "      <td>http://en.wikipedia.org/wiki/1967_Formula_One_...</td>\n",
       "    </tr>\n",
       "    <tr>\n",
       "      <th>18</th>\n",
       "      <td>1968</td>\n",
       "      <td>http://en.wikipedia.org/wiki/1968_Formula_One_...</td>\n",
       "    </tr>\n",
       "    <tr>\n",
       "      <th>19</th>\n",
       "      <td>1969</td>\n",
       "      <td>http://en.wikipedia.org/wiki/1969_Formula_One_...</td>\n",
       "    </tr>\n",
       "    <tr>\n",
       "      <th>20</th>\n",
       "      <td>1970</td>\n",
       "      <td>http://en.wikipedia.org/wiki/1970_Formula_One_...</td>\n",
       "    </tr>\n",
       "    <tr>\n",
       "      <th>21</th>\n",
       "      <td>1971</td>\n",
       "      <td>http://en.wikipedia.org/wiki/1971_Formula_One_...</td>\n",
       "    </tr>\n",
       "    <tr>\n",
       "      <th>22</th>\n",
       "      <td>1972</td>\n",
       "      <td>http://en.wikipedia.org/wiki/1972_Formula_One_...</td>\n",
       "    </tr>\n",
       "    <tr>\n",
       "      <th>23</th>\n",
       "      <td>1973</td>\n",
       "      <td>http://en.wikipedia.org/wiki/1973_Formula_One_...</td>\n",
       "    </tr>\n",
       "    <tr>\n",
       "      <th>24</th>\n",
       "      <td>1974</td>\n",
       "      <td>http://en.wikipedia.org/wiki/1974_Formula_One_...</td>\n",
       "    </tr>\n",
       "    <tr>\n",
       "      <th>25</th>\n",
       "      <td>1975</td>\n",
       "      <td>http://en.wikipedia.org/wiki/1975_Formula_One_...</td>\n",
       "    </tr>\n",
       "    <tr>\n",
       "      <th>26</th>\n",
       "      <td>1976</td>\n",
       "      <td>http://en.wikipedia.org/wiki/1976_Formula_One_...</td>\n",
       "    </tr>\n",
       "    <tr>\n",
       "      <th>27</th>\n",
       "      <td>1977</td>\n",
       "      <td>http://en.wikipedia.org/wiki/1977_Formula_One_...</td>\n",
       "    </tr>\n",
       "    <tr>\n",
       "      <th>28</th>\n",
       "      <td>1978</td>\n",
       "      <td>http://en.wikipedia.org/wiki/1978_Formula_One_...</td>\n",
       "    </tr>\n",
       "    <tr>\n",
       "      <th>29</th>\n",
       "      <td>1979</td>\n",
       "      <td>http://en.wikipedia.org/wiki/1979_Formula_One_...</td>\n",
       "    </tr>\n",
       "  </tbody>\n",
       "</table>\n",
       "</div>"
      ],
      "text/plain": [
       "    season                                                url\n",
       "0     1950  http://en.wikipedia.org/wiki/1950_Formula_One_...\n",
       "1     1951  http://en.wikipedia.org/wiki/1951_Formula_One_...\n",
       "2     1952  http://en.wikipedia.org/wiki/1952_Formula_One_...\n",
       "3     1953  http://en.wikipedia.org/wiki/1953_Formula_One_...\n",
       "4     1954  http://en.wikipedia.org/wiki/1954_Formula_One_...\n",
       "5     1955  http://en.wikipedia.org/wiki/1955_Formula_One_...\n",
       "6     1956  http://en.wikipedia.org/wiki/1956_Formula_One_...\n",
       "7     1957  http://en.wikipedia.org/wiki/1957_Formula_One_...\n",
       "8     1958  http://en.wikipedia.org/wiki/1958_Formula_One_...\n",
       "9     1959  http://en.wikipedia.org/wiki/1959_Formula_One_...\n",
       "10    1960  http://en.wikipedia.org/wiki/1960_Formula_One_...\n",
       "11    1961  http://en.wikipedia.org/wiki/1961_Formula_One_...\n",
       "12    1962  http://en.wikipedia.org/wiki/1962_Formula_One_...\n",
       "13    1963  http://en.wikipedia.org/wiki/1963_Formula_One_...\n",
       "14    1964  http://en.wikipedia.org/wiki/1964_Formula_One_...\n",
       "15    1965  http://en.wikipedia.org/wiki/1965_Formula_One_...\n",
       "16    1966  http://en.wikipedia.org/wiki/1966_Formula_One_...\n",
       "17    1967  http://en.wikipedia.org/wiki/1967_Formula_One_...\n",
       "18    1968  http://en.wikipedia.org/wiki/1968_Formula_One_...\n",
       "19    1969  http://en.wikipedia.org/wiki/1969_Formula_One_...\n",
       "20    1970  http://en.wikipedia.org/wiki/1970_Formula_One_...\n",
       "21    1971  http://en.wikipedia.org/wiki/1971_Formula_One_...\n",
       "22    1972  http://en.wikipedia.org/wiki/1972_Formula_One_...\n",
       "23    1973  http://en.wikipedia.org/wiki/1973_Formula_One_...\n",
       "24    1974  http://en.wikipedia.org/wiki/1974_Formula_One_...\n",
       "25    1975  http://en.wikipedia.org/wiki/1975_Formula_One_...\n",
       "26    1976  http://en.wikipedia.org/wiki/1976_Formula_One_...\n",
       "27    1977  http://en.wikipedia.org/wiki/1977_Formula_One_...\n",
       "28    1978  http://en.wikipedia.org/wiki/1978_Formula_One_...\n",
       "29    1979  http://en.wikipedia.org/wiki/1979_Formula_One_..."
      ]
     },
     "execution_count": 38,
     "metadata": {},
     "output_type": "execute_result"
    }
   ],
   "source": [
    "pd.DataFrame(seasons)"
   ]
  },
  {
   "cell_type": "code",
   "execution_count": null,
   "id": "5e14d8de",
   "metadata": {},
   "outputs": [],
   "source": []
  },
  {
   "cell_type": "code",
   "execution_count": null,
   "id": "a0c85a39",
   "metadata": {},
   "outputs": [],
   "source": []
  },
  {
   "cell_type": "code",
   "execution_count": null,
   "id": "e1d70066",
   "metadata": {},
   "outputs": [],
   "source": [
    "for year in list(range(2010,2022)):\n",
    "    url='http://ergast.com/api/f1/{}.json'\n",
    "    response = requests.get(url.format(year))\n",
    "    content = json.loads(response.content)"
   ]
  },
  {
   "cell_type": "code",
   "execution_count": null,
   "id": "70473755",
   "metadata": {},
   "outputs": [],
   "source": [
    "content['MRData']['RaceTable']['Races'][0]['raceName']"
   ]
  },
  {
   "cell_type": "code",
   "execution_count": null,
   "id": "f376785a",
   "metadata": {},
   "outputs": [],
   "source": []
  },
  {
   "cell_type": "code",
   "execution_count": null,
   "id": "6dc41df8",
   "metadata": {},
   "outputs": [],
   "source": [
    "for key in races.keys():\n",
    "    print(len(races[key]))"
   ]
  },
  {
   "cell_type": "code",
   "execution_count": null,
   "id": "22bfdf43",
   "metadata": {},
   "outputs": [],
   "source": []
  },
  {
   "cell_type": "code",
   "execution_count": null,
   "id": "f6738f53",
   "metadata": {},
   "outputs": [],
   "source": [
    "races"
   ]
  },
  {
   "cell_type": "code",
   "execution_count": null,
   "id": "6836bdca",
   "metadata": {},
   "outputs": [],
   "source": [
    "races['season']"
   ]
  },
  {
   "cell_type": "code",
   "execution_count": null,
   "id": "e6ed5aac",
   "metadata": {},
   "outputs": [],
   "source": []
  },
  {
   "cell_type": "code",
   "execution_count": null,
   "id": "88efa8a4",
   "metadata": {},
   "outputs": [],
   "source": []
  },
  {
   "cell_type": "code",
   "execution_count": null,
   "id": "0d8c712a",
   "metadata": {},
   "outputs": [],
   "source": [
    "df_results_2022['Driver'] = df_results_2022['Driver'].apply(lambda x: x['driverId'])"
   ]
  },
  {
   "cell_type": "code",
   "execution_count": null,
   "id": "6c2751d0",
   "metadata": {},
   "outputs": [],
   "source": [
    "df_results_2022.groupby(['Driver']).agg({'points':'sum'})"
   ]
  },
  {
   "cell_type": "code",
   "execution_count": null,
   "id": "a31202d9",
   "metadata": {},
   "outputs": [],
   "source": [
    "df_results_2022['points']=df_results_2022.points.values.astype(int)"
   ]
  },
  {
   "cell_type": "code",
   "execution_count": null,
   "id": "73850458",
   "metadata": {},
   "outputs": [],
   "source": [
    "df_results_2022.groupby(['Driver']).agg({'points':'sum'}).sort_values(by='points',ascending=False)"
   ]
  },
  {
   "cell_type": "code",
   "execution_count": null,
   "id": "d8e763ae",
   "metadata": {},
   "outputs": [],
   "source": []
  },
  {
   "cell_type": "code",
   "execution_count": null,
   "id": "01addd75",
   "metadata": {},
   "outputs": [],
   "source": []
  },
  {
   "cell_type": "code",
   "execution_count": null,
   "id": "81e63a33",
   "metadata": {},
   "outputs": [],
   "source": [
    "df_results_2022['points']"
   ]
  },
  {
   "cell_type": "code",
   "execution_count": null,
   "id": "57149020",
   "metadata": {},
   "outputs": [],
   "source": [
    "df_results_2022.groupby(['position']).agg({'points':'sum'}).sort_values(by='points',ascending=False)"
   ]
  },
  {
   "cell_type": "code",
   "execution_count": null,
   "id": "d2f441e3",
   "metadata": {},
   "outputs": [],
   "source": [
    "url='http://ergast.com/api/f1/2012.json'\n",
    "response = requests.get(url.format(race))\n",
    "content = json.loads(response.content)"
   ]
  },
  {
   "cell_type": "code",
   "execution_count": null,
   "id": "0acdca0f",
   "metadata": {},
   "outputs": [],
   "source": [
    "pd.DataFrame(content['MRData']['RaceTable']['Races'])"
   ]
  },
  {
   "cell_type": "code",
   "execution_count": null,
   "id": "311b5c34",
   "metadata": {},
   "outputs": [],
   "source": [
    " "
   ]
  },
  {
   "cell_type": "code",
   "execution_count": null,
   "id": "b8922ebb",
   "metadata": {},
   "outputs": [],
   "source": []
  }
 ],
 "metadata": {
  "kernelspec": {
   "display_name": "Python 3 (ipykernel)",
   "language": "python",
   "name": "python3"
  },
  "language_info": {
   "codemirror_mode": {
    "name": "ipython",
    "version": 3
   },
   "file_extension": ".py",
   "mimetype": "text/x-python",
   "name": "python",
   "nbconvert_exporter": "python",
   "pygments_lexer": "ipython3",
   "version": "3.9.13"
  }
 },
 "nbformat": 4,
 "nbformat_minor": 5
}
